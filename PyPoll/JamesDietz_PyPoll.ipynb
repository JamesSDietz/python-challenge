{
 "cells": [
  {
   "cell_type": "code",
   "execution_count": 2,
   "metadata": {},
   "outputs": [],
   "source": [
    "import pandas as pd"
   ]
  },
  {
   "cell_type": "code",
   "execution_count": 3,
   "metadata": {},
   "outputs": [],
   "source": [
    "file = 'election_data.csv'"
   ]
  },
  {
   "cell_type": "code",
   "execution_count": 4,
   "metadata": {},
   "outputs": [],
   "source": [
    "filedf = pd.read_csv(file)"
   ]
  },
  {
   "cell_type": "code",
   "execution_count": 5,
   "metadata": {},
   "outputs": [
    {
     "data": {
      "text/html": [
       "<div>\n",
       "<style scoped>\n",
       "    .dataframe tbody tr th:only-of-type {\n",
       "        vertical-align: middle;\n",
       "    }\n",
       "\n",
       "    .dataframe tbody tr th {\n",
       "        vertical-align: top;\n",
       "    }\n",
       "\n",
       "    .dataframe thead th {\n",
       "        text-align: right;\n",
       "    }\n",
       "</style>\n",
       "<table border=\"1\" class=\"dataframe\">\n",
       "  <thead>\n",
       "    <tr style=\"text-align: right;\">\n",
       "      <th></th>\n",
       "      <th>Voter ID</th>\n",
       "      <th>County</th>\n",
       "      <th>Candidate</th>\n",
       "    </tr>\n",
       "  </thead>\n",
       "  <tbody>\n",
       "    <tr>\n",
       "      <th>0</th>\n",
       "      <td>12864552</td>\n",
       "      <td>Marsh</td>\n",
       "      <td>Khan</td>\n",
       "    </tr>\n",
       "    <tr>\n",
       "      <th>1</th>\n",
       "      <td>17444633</td>\n",
       "      <td>Marsh</td>\n",
       "      <td>Correy</td>\n",
       "    </tr>\n",
       "    <tr>\n",
       "      <th>2</th>\n",
       "      <td>19330107</td>\n",
       "      <td>Marsh</td>\n",
       "      <td>Khan</td>\n",
       "    </tr>\n",
       "    <tr>\n",
       "      <th>3</th>\n",
       "      <td>19865775</td>\n",
       "      <td>Queen</td>\n",
       "      <td>Khan</td>\n",
       "    </tr>\n",
       "    <tr>\n",
       "      <th>4</th>\n",
       "      <td>11927875</td>\n",
       "      <td>Marsh</td>\n",
       "      <td>Khan</td>\n",
       "    </tr>\n",
       "  </tbody>\n",
       "</table>\n",
       "</div>"
      ],
      "text/plain": [
       "   Voter ID County Candidate\n",
       "0  12864552  Marsh      Khan\n",
       "1  17444633  Marsh    Correy\n",
       "2  19330107  Marsh      Khan\n",
       "3  19865775  Queen      Khan\n",
       "4  11927875  Marsh      Khan"
      ]
     },
     "execution_count": 5,
     "metadata": {},
     "output_type": "execute_result"
    }
   ],
   "source": [
    "filedf.head()"
   ]
  },
  {
   "cell_type": "code",
   "execution_count": 6,
   "metadata": {},
   "outputs": [
    {
     "data": {
      "text/plain": [
       "<bound method NDFrame.head of          Correy  Khan  Li  O'Tooley\n",
       "0             0     1   0         0\n",
       "1             1     0   0         0\n",
       "2             0     1   0         0\n",
       "3             0     1   0         0\n",
       "4             0     1   0         0\n",
       "5             0     0   1         0\n",
       "6             1     0   0         0\n",
       "7             0     1   0         0\n",
       "8             0     1   0         0\n",
       "9             1     0   0         0\n",
       "10            0     1   0         0\n",
       "11            1     0   0         0\n",
       "12            0     1   0         0\n",
       "13            0     1   0         0\n",
       "14            1     0   0         0\n",
       "15            0     1   0         0\n",
       "16            1     0   0         0\n",
       "17            1     0   0         0\n",
       "18            0     1   0         0\n",
       "19            1     0   0         0\n",
       "20            1     0   0         0\n",
       "21            1     0   0         0\n",
       "22            1     0   0         0\n",
       "23            0     1   0         0\n",
       "24            0     1   0         0\n",
       "25            0     1   0         0\n",
       "26            0     1   0         0\n",
       "27            0     1   0         0\n",
       "28            0     1   0         0\n",
       "29            1     0   0         0\n",
       "...         ...   ...  ..       ...\n",
       "3520971       0     1   0         0\n",
       "3520972       0     1   0         0\n",
       "3520973       1     0   0         0\n",
       "3520974       0     1   0         0\n",
       "3520975       0     1   0         0\n",
       "3520976       0     0   0         1\n",
       "3520977       0     1   0         0\n",
       "3520978       1     0   0         0\n",
       "3520979       0     1   0         0\n",
       "3520980       0     0   0         1\n",
       "3520981       0     1   0         0\n",
       "3520982       0     1   0         0\n",
       "3520983       0     0   1         0\n",
       "3520984       0     1   0         0\n",
       "3520985       0     1   0         0\n",
       "3520986       1     0   0         0\n",
       "3520987       0     1   0         0\n",
       "3520988       0     0   1         0\n",
       "3520989       0     1   0         0\n",
       "3520990       0     1   0         0\n",
       "3520991       1     0   0         0\n",
       "3520992       0     1   0         0\n",
       "3520993       0     1   0         0\n",
       "3520994       1     0   0         0\n",
       "3520995       1     0   0         0\n",
       "3520996       0     1   0         0\n",
       "3520997       0     1   0         0\n",
       "3520998       0     1   0         0\n",
       "3520999       0     1   0         0\n",
       "3521000       0     0   0         1\n",
       "\n",
       "[3521001 rows x 4 columns]>"
      ]
     },
     "execution_count": 6,
     "metadata": {},
     "output_type": "execute_result"
    }
   ],
   "source": [
    "dummycan = pd.get_dummies(filedf['Candidate'])\n",
    "dummycan.head"
   ]
  },
  {
   "cell_type": "code",
   "execution_count": 10,
   "metadata": {},
   "outputs": [
    {
     "data": {
      "text/html": [
       "<div>\n",
       "<style scoped>\n",
       "    .dataframe tbody tr th:only-of-type {\n",
       "        vertical-align: middle;\n",
       "    }\n",
       "\n",
       "    .dataframe tbody tr th {\n",
       "        vertical-align: top;\n",
       "    }\n",
       "\n",
       "    .dataframe thead th {\n",
       "        text-align: right;\n",
       "    }\n",
       "</style>\n",
       "<table border=\"1\" class=\"dataframe\">\n",
       "  <thead>\n",
       "    <tr style=\"text-align: right;\">\n",
       "      <th></th>\n",
       "      <th>Correy</th>\n",
       "      <th>Khan</th>\n",
       "      <th>Li</th>\n",
       "      <th>O'Tooley</th>\n",
       "    </tr>\n",
       "  </thead>\n",
       "  <tbody>\n",
       "    <tr>\n",
       "      <th>count</th>\n",
       "      <td>3521001.0</td>\n",
       "      <td>3.521001e+06</td>\n",
       "      <td>3.521001e+06</td>\n",
       "      <td>3.521001e+06</td>\n",
       "    </tr>\n",
       "    <tr>\n",
       "      <th>mean</th>\n",
       "      <td>0.2</td>\n",
       "      <td>6.300001e-01</td>\n",
       "      <td>1.400000e-01</td>\n",
       "      <td>2.999999e-02</td>\n",
       "    </tr>\n",
       "    <tr>\n",
       "      <th>std</th>\n",
       "      <td>0.4</td>\n",
       "      <td>4.828043e-01</td>\n",
       "      <td>3.469870e-01</td>\n",
       "      <td>1.705872e-01</td>\n",
       "    </tr>\n",
       "    <tr>\n",
       "      <th>min</th>\n",
       "      <td>0.0</td>\n",
       "      <td>0.000000e+00</td>\n",
       "      <td>0.000000e+00</td>\n",
       "      <td>0.000000e+00</td>\n",
       "    </tr>\n",
       "    <tr>\n",
       "      <th>25%</th>\n",
       "      <td>0.0</td>\n",
       "      <td>0.000000e+00</td>\n",
       "      <td>0.000000e+00</td>\n",
       "      <td>0.000000e+00</td>\n",
       "    </tr>\n",
       "    <tr>\n",
       "      <th>50%</th>\n",
       "      <td>0.0</td>\n",
       "      <td>1.000000e+00</td>\n",
       "      <td>0.000000e+00</td>\n",
       "      <td>0.000000e+00</td>\n",
       "    </tr>\n",
       "    <tr>\n",
       "      <th>75%</th>\n",
       "      <td>0.0</td>\n",
       "      <td>1.000000e+00</td>\n",
       "      <td>0.000000e+00</td>\n",
       "      <td>0.000000e+00</td>\n",
       "    </tr>\n",
       "    <tr>\n",
       "      <th>max</th>\n",
       "      <td>1.0</td>\n",
       "      <td>1.000000e+00</td>\n",
       "      <td>1.000000e+00</td>\n",
       "      <td>1.000000e+00</td>\n",
       "    </tr>\n",
       "  </tbody>\n",
       "</table>\n",
       "</div>"
      ],
      "text/plain": [
       "          Correy          Khan            Li      O'Tooley\n",
       "count  3521001.0  3.521001e+06  3.521001e+06  3.521001e+06\n",
       "mean         0.2  6.300001e-01  1.400000e-01  2.999999e-02\n",
       "std          0.4  4.828043e-01  3.469870e-01  1.705872e-01\n",
       "min          0.0  0.000000e+00  0.000000e+00  0.000000e+00\n",
       "25%          0.0  0.000000e+00  0.000000e+00  0.000000e+00\n",
       "50%          0.0  1.000000e+00  0.000000e+00  0.000000e+00\n",
       "75%          0.0  1.000000e+00  0.000000e+00  0.000000e+00\n",
       "max          1.0  1.000000e+00  1.000000e+00  1.000000e+00"
      ]
     },
     "execution_count": 10,
     "metadata": {},
     "output_type": "execute_result"
    }
   ],
   "source": [
    "dummycan.describe()"
   ]
  },
  {
   "cell_type": "code",
   "execution_count": 12,
   "metadata": {},
   "outputs": [
    {
     "name": "stdout",
     "output_type": "stream",
     "text": [
      "<class 'pandas.core.frame.DataFrame'>\n",
      "RangeIndex: 3521001 entries, 0 to 3521000\n",
      "Data columns (total 4 columns):\n",
      "Correy      uint8\n",
      "Khan        uint8\n",
      "Li          uint8\n",
      "O'Tooley    uint8\n",
      "dtypes: uint8(4)\n",
      "memory usage: 13.4 MB\n"
     ]
    }
   ],
   "source": [
    "dummycan.info()"
   ]
  },
  {
   "cell_type": "code",
   "execution_count": 14,
   "metadata": {},
   "outputs": [],
   "source": [
    "dummycan['Correy'] = pd.to_numeric(dummycan['Correy'])"
   ]
  },
  {
   "cell_type": "code",
   "execution_count": 16,
   "metadata": {},
   "outputs": [
    {
     "data": {
      "text/plain": [
       "dtype('uint8')"
      ]
     },
     "execution_count": 16,
     "metadata": {},
     "output_type": "execute_result"
    }
   ],
   "source": [
    "dummycan['Correy'].dtype"
   ]
  },
  {
   "cell_type": "code",
   "execution_count": null,
   "metadata": {},
   "outputs": [],
   "source": [
    "#filedf.to_csv(\"output_election.csv\", index=False, header=True)"
   ]
  },
  {
   "cell_type": "code",
   "execution_count": 6,
   "metadata": {},
   "outputs": [
    {
     "name": "stdout",
     "output_type": "stream",
     "text": [
      "<class 'pandas.core.frame.DataFrame'>\n",
      "RangeIndex: 3521001 entries, 0 to 3521000\n",
      "Data columns (total 3 columns):\n",
      "Voter ID     int64\n",
      "County       object\n",
      "Candidate    object\n",
      "dtypes: int64(1), object(2)\n",
      "memory usage: 80.6+ MB\n"
     ]
    }
   ],
   "source": [
    "filedf.info()"
   ]
  },
  {
   "cell_type": "code",
   "execution_count": 14,
   "metadata": {},
   "outputs": [
    {
     "data": {
      "text/plain": [
       "Khan        2218231\n",
       "Correy       704200\n",
       "Li           492940\n",
       "O'Tooley     105630\n",
       "Name: Candidate, dtype: int64"
      ]
     },
     "execution_count": 14,
     "metadata": {},
     "output_type": "execute_result"
    }
   ],
   "source": [
    "filedf['Candidate'].value_counts()"
   ]
  },
  {
   "cell_type": "code",
   "execution_count": 14,
   "metadata": {},
   "outputs": [
    {
     "name": "stdout",
     "output_type": "stream",
     "text": [
      "------------------------------\n",
      "Election Results:\n",
      "------------------------------\n",
      "Total Votes\n"
     ]
    },
    {
     "data": {
      "text/plain": [
       "Khan        2218231\n",
       "Correy       704200\n",
       "Li           492940\n",
       "O'Tooley     105630\n",
       "Name: Candidate, dtype: int64"
      ]
     },
     "execution_count": 14,
     "metadata": {},
     "output_type": "execute_result"
    }
   ],
   "source": [
    "print(\"------------------------------\")\n",
    "print(\"Election Results:\")\n",
    "print(\"------------------------------\")\n",
    "print(\"Total Votes\")\n",
    "filedf['Candidate'].value_counts()"
   ]
  },
  {
   "cell_type": "code",
   "execution_count": 18,
   "metadata": {},
   "outputs": [
    {
     "data": {
      "text/plain": [
       "Khan        63.000011\n",
       "Correy      19.999994\n",
       "Li          13.999996\n",
       "O'Tooley     2.999999\n",
       "Name: Candidate, dtype: float64"
      ]
     },
     "execution_count": 18,
     "metadata": {},
     "output_type": "execute_result"
    }
   ],
   "source": [
    "filedf['Candidate'].value_counts()/len(filedf.Candidate) * 100"
   ]
  },
  {
   "cell_type": "code",
   "execution_count": 17,
   "metadata": {},
   "outputs": [],
   "source": [
    "#header = [\"Correy\", \"Kahn\", \"Li\", \"O'Toole\"]\n",
    "dummycan.to_csv('col_output.csv', index=False)"
   ]
  },
  {
   "cell_type": "code",
   "execution_count": null,
   "metadata": {},
   "outputs": [],
   "source": []
  }
 ],
 "metadata": {
  "kernelspec": {
   "display_name": "Python [conda env:PythonData]",
   "language": "python",
   "name": "conda-env-PythonData-py"
  },
  "language_info": {
   "codemirror_mode": {
    "name": "ipython",
    "version": 3
   },
   "file_extension": ".py",
   "mimetype": "text/x-python",
   "name": "python",
   "nbconvert_exporter": "python",
   "pygments_lexer": "ipython3",
   "version": "3.6.7"
  }
 },
 "nbformat": 4,
 "nbformat_minor": 2
}
